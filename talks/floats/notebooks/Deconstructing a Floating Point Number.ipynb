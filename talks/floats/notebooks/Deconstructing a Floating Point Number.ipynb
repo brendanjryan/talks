{
 "cells": [
  {
   "cell_type": "markdown",
   "metadata": {},
   "source": [
    "# Deconstructing a Floating Point Number"
   ]
  },
  {
   "cell_type": "markdown",
   "metadata": {},
   "source": [
    "### https://en.wikipedia.org/wiki/Double_precision_floating-point_format\n"
   ]
  },
  {
   "cell_type": "code",
   "execution_count": 25,
   "metadata": {
    "collapsed": true
   },
   "outputs": [],
   "source": [
    "import struct"
   ]
  },
  {
   "cell_type": "code",
   "execution_count": 26,
   "metadata": {
    "collapsed": true
   },
   "outputs": [],
   "source": [
    "def get_bit(x, i):\n",
    "    \"\"\"Gets the i-th bit from x\"\"\"\n",
    "    byte_nr, bit_nr = divmod(i, 8) #split into bits and bytes\n",
    "    return int(bool(x[byte_nr] & (1 << bit_nr)))\n",
    "\n",
    "def get_bits(x, b, count):\n",
    "        \"\"\"Gets the *count* bits from the given number\"\"\"\n",
    "        return sum(get_bit(x,i+b)*2**i for i in range(count))\n",
    "\n",
    "\n",
    "def decon_fp(x):\n",
    "    \"\"\"\n",
    "    Deconstructs the parts of a floating point double\n",
    "    https://en.wikipedia.org/wiki/Double_precision_floating-point_format\n",
    "    \"\"\"\n",
    "    # pack x into a byte string\n",
    "    s = struct.pack(\"d\", x)\n",
    "\n",
    "    \n",
    "    stored_exponent = get_bits(s, 52, 11)\n",
    "    fraction = get_bits(s, 0, 52)\n",
    "    \n",
    "    \n",
    "    if stored_exponent == 0:\n",
    "        exponent = -1022\n",
    "        significand = fraction\n",
    "    else:\n",
    "        exponent = stored_exponent - 1023\n",
    "        significand = fraction + 2**52\n",
    "   \n",
    "\n",
    "    print(\"---------------------------------------------\")\n",
    "    print(\"Floating point structure for %r\" % x)\n",
    "    print(\"---------------------------------------------\")\n",
    "    print(\"Sign bit (1:negative):\", get_bit(s, 63)) # get the first bit (reading from the right)\n",
    "    print(\"Stored exponent value: %d\" % stored_exponent)\n",
    "    print(\"Mathematical exponent: %d\" % exponent)\n",
    "\n",
    "    print(\"Fraction (binary): {0:052b}\".format(fraction))\n",
    "    print(\"Signif. (binary): {0:053b}\".format(significand))\n",
    "    print(\"Significand (decimal, scaled to <=2):\", repr(significand / (2**52)))"
   ]
  },
  {
   "cell_type": "code",
   "execution_count": 27,
   "metadata": {},
   "outputs": [
    {
     "name": "stdout",
     "output_type": "stream",
     "text": [
      "---------------------------------------------\n",
      "Floating point structure for 1.5\n",
      "---------------------------------------------\n",
      "Sign bit (1:negative): 0\n",
      "Stored exponent value: 1023\n",
      "Mathematical exponent: 0\n",
      "Fraction (binary): 1000000000000000000000000000000000000000000000000000\n",
      "Signif. (binary): 11000000000000000000000000000000000000000000000000000\n",
      "Significand (decimal, scaled to <=2): 1.5\n"
     ]
    }
   ],
   "source": [
    "decon_fp(1.5)"
   ]
  },
  {
   "cell_type": "code",
   "execution_count": 28,
   "metadata": {},
   "outputs": [
    {
     "name": "stdout",
     "output_type": "stream",
     "text": [
      "---------------------------------------------\n",
      "Floating point structure for 1.0\n",
      "---------------------------------------------\n",
      "Sign bit (1:negative): 0\n",
      "Stored exponent value: 1023\n",
      "Mathematical exponent: 0\n",
      "Fraction (binary): 0000000000000000000000000000000000000000000000000000\n",
      "Signif. (binary): 10000000000000000000000000000000000000000000000000000\n",
      "Significand (decimal, scaled to <=2): 1.0\n"
     ]
    }
   ],
   "source": [
    "decon_fp(1.0)"
   ]
  },
  {
   "cell_type": "code",
   "execution_count": 29,
   "metadata": {},
   "outputs": [
    {
     "name": "stdout",
     "output_type": "stream",
     "text": [
      "---------------------------------------------\n",
      "Floating point structure for 0.1\n",
      "---------------------------------------------\n",
      "Sign bit (1:negative): 0\n",
      "Stored exponent value: 1019\n",
      "Mathematical exponent: -4\n",
      "Fraction (binary): 1001100110011001100110011001100110011001100110011010\n",
      "Signif. (binary): 11001100110011001100110011001100110011001100110011010\n",
      "Significand (decimal, scaled to <=2): 1.6\n"
     ]
    }
   ],
   "source": [
    "decon_fp(0.1)"
   ]
  }
 ],
 "metadata": {
  "kernelspec": {
   "display_name": "Python 3",
   "language": "python",
   "name": "python3"
  },
  "language_info": {
   "codemirror_mode": {
    "name": "ipython",
    "version": 3
   },
   "file_extension": ".py",
   "mimetype": "text/x-python",
   "name": "python",
   "nbconvert_exporter": "python",
   "pygments_lexer": "ipython3",
   "version": "3.6.2"
  }
 },
 "nbformat": 4,
 "nbformat_minor": 2
}
