{
 "cells": [
  {
   "cell_type": "markdown",
   "metadata": {},
   "source": [
    "# The Harhomic Series"
   ]
  },
  {
   "cell_type": "markdown",
   "metadata": {},
   "source": [
    "### https://en.wikipedia.org/wiki/Harmonic_series_(mathematics)"
   ]
  },
  {
   "cell_type": "code",
   "execution_count": 1,
   "metadata": {
    "collapsed": true
   },
   "outputs": [],
   "source": [
    "import numba as np"
   ]
  },
  {
   "cell_type": "code",
   "execution_count": 8,
   "metadata": {},
   "outputs": [
    {
     "name": "stdout",
     "output_type": "stream",
     "text": [
      "1/n = 0.000005, sum = 12.782757\n",
      "1/n = 0.000003, sum = 13.481427\n",
      "1/n = 0.000002, sum = 13.881427\n",
      "1/n = 0.000001, sum = 14.166623\n",
      "1/n = 0.000001, sum = 14.357358\n",
      "1/n = 0.000001, sum = 14.548093\n",
      "1/n = 0.000001, sum = 14.738828\n",
      "1/n = 0.000001, sum = 14.929563\n",
      "1/n = 0.000001, sum = 15.120297\n",
      "1/n = 0.000000, sum = 15.311032\n",
      "1/n = 0.000000, sum = 15.403683\n",
      "1/n = 0.000000, sum = 15.403683\n",
      "1/n = 0.000000, sum = 15.403683\n",
      "1/n = 0.000000, sum = 15.403683\n",
      "1/n = 0.000000, sum = 15.403683\n",
      "1/n = 0.000000, sum = 15.403683\n",
      "1/n = 0.000000, sum = 15.403683\n",
      "1/n = 0.000000, sum = 15.403683\n",
      "1/n = 0.000000, sum = 15.403683\n",
      "1/n = 0.000000, sum = 15.403683\n",
      "1/n = 0.000000, sum = 15.403683\n",
      "1/n = 0.000000, sum = 15.403683\n",
      "1/n = 0.000000, sum = 15.403683\n",
      "1/n = 0.000000, sum = 15.403683\n",
      "1/n = 0.000000, sum = 15.403683\n",
      "1/n = 0.000000, sum = 15.403683\n",
      "1/n = 0.000000, sum = 15.403683\n",
      "1/n = 0.000000, sum = 15.403683\n",
      "1/n = 0.000000, sum = 15.403683\n",
      "1/n = 0.000000, sum = 15.403683\n",
      "1/n = 0.000000, sum = 15.403683\n",
      "1/n = 0.000000, sum = 15.403683\n",
      "1/n = 0.000000, sum = 15.403683\n",
      "1/n = 0.000000, sum = 15.403683\n",
      "1/n = 0.000000, sum = 15.403683\n",
      "1/n = 0.000000, sum = 15.403683\n",
      "1/n = 0.000000, sum = 15.403683\n",
      "1/n = 0.000000, sum = 15.403683\n",
      "1/n = 0.000000, sum = 15.403683\n",
      "1/n = 0.000000, sum = 15.403683\n",
      "1/n = 0.000000, sum = 15.403683\n",
      "1/n = 0.000000, sum = 15.403683\n",
      "1/n = 0.000000, sum = 15.403683\n",
      "1/n = 0.000000, sum = 15.403683\n",
      "1/n = 0.000000, sum = 15.403683\n",
      "1/n = 0.000000, sum = 15.403683\n",
      "1/n = 0.000000, sum = 15.403683\n",
      "1/n = 0.000000, sum = 15.403683\n",
      "1/n = 0.000000, sum = 15.403683\n",
      "1/n = 0.000000, sum = 15.403683\n",
      "1/n = 0.000000, sum = 15.403683\n",
      "1/n = 0.000000, sum = 15.403683\n",
      "1/n = 0.000000, sum = 15.403683\n",
      "1/n = 0.000000, sum = 15.403683\n",
      "1/n = 0.000000, sum = 15.403683\n",
      "1/n = 0.000000, sum = 15.403683\n",
      "1/n = 0.000000, sum = 15.403683\n",
      "1/n = 0.000000, sum = 15.403683\n",
      "1/n = 0.000000, sum = 15.403683\n",
      "1/n = 0.000000, sum = 15.403683\n",
      "1/n = 0.000000, sum = 15.403683\n",
      "1/n = 0.000000, sum = 15.403683\n",
      "1/n = 0.000000, sum = 15.403683\n",
      "1/n = 0.000000, sum = 15.403683\n",
      "1/n = 0.000000, sum = 15.403683\n",
      "1/n = 0.000000, sum = 15.403683\n",
      "1/n = 0.000000, sum = 15.403683\n",
      "1/n = 0.000000, sum = 15.403683\n",
      "1/n = 0.000000, sum = 15.403683\n",
      "1/n = 0.000000, sum = 15.403683\n",
      "1/n = 0.000000, sum = 15.403683\n",
      "1/n = 0.000000, sum = 15.403683\n"
     ]
    },
    {
     "ename": "KeyboardInterrupt",
     "evalue": "",
     "output_type": "error",
     "traceback": [
      "\u001b[0;31m---------------------------------------------------------------------------\u001b[0m",
      "\u001b[0;31mKeyboardInterrupt\u001b[0m                         Traceback (most recent call last)",
      "\u001b[0;32m<ipython-input-8-431e2988cb40>\u001b[0m in \u001b[0;36m<module>\u001b[0;34m()\u001b[0m\n\u001b[1;32m      6\u001b[0m \u001b[0;34m\u001b[0m\u001b[0m\n\u001b[1;32m      7\u001b[0m \u001b[0;32mfor\u001b[0m \u001b[0mn\u001b[0m \u001b[0;32min\u001b[0m \u001b[0mrange\u001b[0m \u001b[0;34m(\u001b[0m\u001b[0;36m1\u001b[0m\u001b[0;34m,\u001b[0m \u001b[0mdiv\u001b[0m\u001b[0;34m*\u001b[0m\u001b[0;36m1000\u001b[0m\u001b[0;34m)\u001b[0m\u001b[0;34m:\u001b[0m\u001b[0;34m\u001b[0m\u001b[0m\n\u001b[0;32m----> 8\u001b[0;31m     \u001b[0mcur_sum\u001b[0m \u001b[0;34m+=\u001b[0m \u001b[0mnp\u001b[0m\u001b[0;34m.\u001b[0m\u001b[0mfloat32\u001b[0m\u001b[0;34m(\u001b[0m\u001b[0;36m1\u001b[0m \u001b[0;34m/\u001b[0m \u001b[0mn\u001b[0m\u001b[0;34m)\u001b[0m\u001b[0;34m\u001b[0m\u001b[0m\n\u001b[0m\u001b[1;32m      9\u001b[0m \u001b[0;34m\u001b[0m\u001b[0m\n\u001b[1;32m     10\u001b[0m     \u001b[0;32mif\u001b[0m \u001b[0mn\u001b[0m \u001b[0;34m%\u001b[0m \u001b[0mdiv\u001b[0m \u001b[0;34m==\u001b[0m \u001b[0;36m0\u001b[0m\u001b[0;34m:\u001b[0m\u001b[0;34m\u001b[0m\u001b[0m\n",
      "\u001b[0;32m/opt/conda/lib/python3.6/site-packages/numba/types/abstract.py\u001b[0m in \u001b[0;36m__call__\u001b[0;34m(self, *args)\u001b[0m\n\u001b[1;32m    165\u001b[0m \u001b[0;34m\u001b[0m\u001b[0m\n\u001b[1;32m    166\u001b[0m     \u001b[0;32mdef\u001b[0m \u001b[0m__call__\u001b[0m\u001b[0;34m(\u001b[0m\u001b[0mself\u001b[0m\u001b[0;34m,\u001b[0m \u001b[0;34m*\u001b[0m\u001b[0margs\u001b[0m\u001b[0;34m)\u001b[0m\u001b[0;34m:\u001b[0m\u001b[0;34m\u001b[0m\u001b[0m\n\u001b[0;32m--> 167\u001b[0;31m         \u001b[0;32mfrom\u001b[0m \u001b[0;34m.\u001b[0m\u001b[0;34m.\u001b[0m\u001b[0mtyping\u001b[0m \u001b[0;32mimport\u001b[0m \u001b[0msignature\u001b[0m\u001b[0;34m\u001b[0m\u001b[0m\n\u001b[0m\u001b[1;32m    168\u001b[0m         \u001b[0;32mif\u001b[0m \u001b[0mlen\u001b[0m\u001b[0;34m(\u001b[0m\u001b[0margs\u001b[0m\u001b[0;34m)\u001b[0m \u001b[0;34m==\u001b[0m \u001b[0;36m1\u001b[0m \u001b[0;32mand\u001b[0m \u001b[0;32mnot\u001b[0m \u001b[0misinstance\u001b[0m\u001b[0;34m(\u001b[0m\u001b[0margs\u001b[0m\u001b[0;34m[\u001b[0m\u001b[0;36m0\u001b[0m\u001b[0;34m]\u001b[0m\u001b[0;34m,\u001b[0m \u001b[0mType\u001b[0m\u001b[0;34m)\u001b[0m\u001b[0;34m:\u001b[0m\u001b[0;34m\u001b[0m\u001b[0m\n\u001b[1;32m    169\u001b[0m             \u001b[0;32mreturn\u001b[0m \u001b[0mself\u001b[0m\u001b[0;34m.\u001b[0m\u001b[0mcast_python_value\u001b[0m\u001b[0;34m(\u001b[0m\u001b[0margs\u001b[0m\u001b[0;34m[\u001b[0m\u001b[0;36m0\u001b[0m\u001b[0;34m]\u001b[0m\u001b[0;34m)\u001b[0m\u001b[0;34m\u001b[0m\u001b[0m\n",
      "\u001b[0;32m/opt/conda/lib/python3.6/importlib/_bootstrap.py\u001b[0m in \u001b[0;36m_handle_fromlist\u001b[0;34m(module, fromlist, import_)\u001b[0m\n",
      "\u001b[0;31mKeyboardInterrupt\u001b[0m: "
     ]
    }
   ],
   "source": [
    "n = int(0)\n",
    "\n",
    "cur_sum = np.float32(0)\n",
    "\n",
    "div = 200000\n",
    "\n",
    "for n in range (1, div*1000):\n",
    "    cur_sum += np.float32(1 / n)\n",
    "    \n",
    "    if n % div == 0:\n",
    "        print(\"1/n = %f, sum = %f\"%(1.0/n, cur_sum))"
   ]
  }
 ],
 "metadata": {
  "kernelspec": {
   "display_name": "Python 3",
   "language": "python",
   "name": "python3"
  },
  "language_info": {
   "codemirror_mode": {
    "name": "ipython",
    "version": 3
   },
   "file_extension": ".py",
   "mimetype": "text/x-python",
   "name": "python",
   "nbconvert_exporter": "python",
   "pygments_lexer": "ipython3",
   "version": "3.6.2"
  }
 },
 "nbformat": 4,
 "nbformat_minor": 2
}
